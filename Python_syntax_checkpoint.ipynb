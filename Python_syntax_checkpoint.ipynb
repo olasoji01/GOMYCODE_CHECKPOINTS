{
 "cells": [
  {
   "cell_type": "code",
   "execution_count": 3,
   "id": "f365d092-8569-4ab3-8685-fe1b5a874377",
   "metadata": {},
   "outputs": [
    {
     "name": "stdout",
     "output_type": "stream",
     "text": [
      "Welcome to Python Pizza Deliveries\n"
     ]
    },
    {
     "name": "stdin",
     "output_type": "stream",
     "text": [
      "Enter your desired size of puzzle(L,M,S) L\n",
      "Do you want to add pepperoni ?(Y/N N\n",
      "Do you want extra cheese ?(Y/N Y\n"
     ]
    },
    {
     "name": "stdout",
     "output_type": "stream",
     "text": [
      "Your final bill is: $26\n"
     ]
    }
   ],
   "source": [
    "## Congratulations, you've got a job at Python Pizza. Your first job is to build an automatic pizza order program.\n",
    "## Based on a user's order, work out their final bill.\n",
    "''' Small_pizza == $15\n",
    "    Medium_pizza == $20\n",
    "    Large Pizza == $25\n",
    "\n",
    "    Pepperoni for Small Pizza = +$2\n",
    "    Pepperoni for Medium or Large Pizza = +$3'''\n",
    "\n",
    "print('Welcome to Python Pizza Deliveries')\n",
    "\n",
    "size = input('Enter your desired size of puzzle(L,M,S)')\n",
    "add_pepperoni = input('Do you want to add pepperoni ?(Y/N')\n",
    "extra_cheese = input('Do you want extra cheese ?(Y/N')\n",
    "\n",
    "# Initialize base price\n",
    "if size == \"S\":\n",
    "    base_price = 15\n",
    "elif size == \"M\":\n",
    "    base_price = 20\n",
    "elif size == \"L\":\n",
    "    base_price = 25\n",
    "else:\n",
    "    print(\"Invalid size. Please try again.\")\n",
    "    exit()\n",
    "\n",
    "\n",
    "# Add pepperoni cost\n",
    "if add_pepperoni == \"Y\":\n",
    "    if size == \"S\":\n",
    "        pepperoni_cost = 2\n",
    "    else:\n",
    "        pepperoni_cost = 3\n",
    "else:\n",
    "    pepperoni_cost = 0\n",
    "\n",
    "# Add extra cheese cost\n",
    "if extra_cheese == \"Y\":\n",
    "    cheese_cost = 1\n",
    "else:\n",
    "    cheese_cost = 0\n",
    "\n",
    "# Calculate final bill\n",
    "final_bill = base_price + pepperoni_cost + cheese_cost\n",
    "\n",
    "\n",
    "# Display final bill\n",
    "print(f\"Your final bill is: ${final_bill}\")"
   ]
  },
  {
   "cell_type": "code",
   "execution_count": null,
   "id": "5b2bd937-524d-4178-9f65-4412db95a5ae",
   "metadata": {},
   "outputs": [],
   "source": []
  }
 ],
 "metadata": {
  "kernelspec": {
   "display_name": "Python 3 (ipykernel)",
   "language": "python",
   "name": "python3"
  },
  "language_info": {
   "codemirror_mode": {
    "name": "ipython",
    "version": 3
   },
   "file_extension": ".py",
   "mimetype": "text/x-python",
   "name": "python",
   "nbconvert_exporter": "python",
   "pygments_lexer": "ipython3",
   "version": "3.12.4"
  }
 },
 "nbformat": 4,
 "nbformat_minor": 5
}
