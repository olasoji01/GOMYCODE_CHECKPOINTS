{
 "cells": [
  {
   "cell_type": "markdown",
   "id": "cca17c3f-943d-4d21-90ca-aeee08f67a94",
   "metadata": {},
   "source": [
    "# What i'm aiming for!\n",
    "- Create a program that allows the user to manage their shopping list. The user should be able to add items to the list,\n",
    " remove items, and view the current list of items.\n",
    "\n",
    "- Instructions\n",
    "- Create a list to store the shopping items\n",
    "- Use a while loop to create a menu of options for the user to add, remove, or view items from the list\n",
    "- Use a for loop to iterate through the list of items and display them to the user\n",
    "- Use the range() function to limit the number of items that can be added to the list\n",
    "- Use the list, tuple, set, and dictionary data structures to store and manipulate the shopping items"
   ]
  },
  {
   "cell_type": "code",
   "execution_count": 1,
   "id": "dd3ce057-c8c7-4d2c-8869-a55b66dc6432",
   "metadata": {},
   "outputs": [
    {
     "name": "stdout",
     "output_type": "stream",
     "text": [
      "\n",
      "Shopping List Menu:\n",
      "1. Add item\n",
      "2. Remove item\n",
      "3. View list\n",
      "4. Exit\n"
     ]
    },
    {
     "name": "stdin",
     "output_type": "stream",
     "text": [
      "Enter your choice (1-4):  1\n",
      "Enter item to add:  Apple\n"
     ]
    },
    {
     "name": "stdout",
     "output_type": "stream",
     "text": [
      "Apple added to shopping list.\n",
      "\n",
      "Shopping List Menu:\n",
      "1. Add item\n",
      "2. Remove item\n",
      "3. View list\n",
      "4. Exit\n"
     ]
    },
    {
     "name": "stdin",
     "output_type": "stream",
     "text": [
      "Enter your choice (1-4):  1\n",
      "Enter item to add:  Mango\n"
     ]
    },
    {
     "name": "stdout",
     "output_type": "stream",
     "text": [
      "Mango added to shopping list.\n",
      "\n",
      "Shopping List Menu:\n",
      "1. Add item\n",
      "2. Remove item\n",
      "3. View list\n",
      "4. Exit\n"
     ]
    },
    {
     "name": "stdin",
     "output_type": "stream",
     "text": [
      "Enter your choice (1-4):  Pear\n"
     ]
    },
    {
     "name": "stdout",
     "output_type": "stream",
     "text": [
      "Invalid choice. Please try again.\n",
      "\n",
      "Shopping List Menu:\n",
      "1. Add item\n",
      "2. Remove item\n",
      "3. View list\n",
      "4. Exit\n"
     ]
    },
    {
     "name": "stdin",
     "output_type": "stream",
     "text": [
      "Enter your choice (1-4):  1\n",
      "Enter item to add:  Pear\n"
     ]
    },
    {
     "name": "stdout",
     "output_type": "stream",
     "text": [
      "Pear added to shopping list.\n",
      "\n",
      "Shopping List Menu:\n",
      "1. Add item\n",
      "2. Remove item\n",
      "3. View list\n",
      "4. Exit\n"
     ]
    },
    {
     "name": "stdin",
     "output_type": "stream",
     "text": [
      "Enter your choice (1-4):  4\n"
     ]
    },
    {
     "name": "stdout",
     "output_type": "stream",
     "text": [
      "Exiting shopping list program.\n"
     ]
    }
   ],
   "source": [
    "# Initialize shopping list\n",
    "shopping_list = []\n",
    "\n",
    "# Maximum number of items\n",
    "max_items = 10\n",
    "\n",
    "while True:\n",
    "    # Display menu\n",
    "    print(\"\\nShopping List Menu:\")\n",
    "    print(\"1. Add item\")\n",
    "    print(\"2. Remove item\")\n",
    "    print(\"3. View list\")\n",
    "    print(\"4. Exit\")\n",
    "\n",
    "    # Get user selection\n",
    "    choice = input(\"Enter your choice (1-4): \")\n",
    "\n",
    "    # Handle user selection\n",
    "    if choice == \"1\":\n",
    "        # Add item\n",
    "        if len(shopping_list) < max_items:\n",
    "            item = input(\"Enter item to add: \")\n",
    "            shopping_list.append(item)\n",
    "            print(f\"{item} added to shopping list.\")\n",
    "        else:\n",
    "            print(\"Shopping list is full.\")\n",
    "    elif choice == \"2\":\n",
    "        # Remove item\n",
    "        if shopping_list:\n",
    "            item = input(\"Enter item to remove: \")\n",
    "            if item in shopping_list:\n",
    "                shopping_list.remove(item)\n",
    "                print(f\"{item} removed from shopping list.\")\n",
    "            else:\n",
    "                print(f\"{item} not found in shopping list.\")\n",
    "        else:\n",
    "            print(\"Shopping list is empty.\")\n",
    "    elif choice == \"3\":\n",
    "        # View list\n",
    "        if shopping_list:\n",
    "            print(\"\\nShopping List:\")\n",
    "            for i, item in enumerate(shopping_list, start=1):\n",
    "                print(f\"{i}. {item}\")\n",
    "        else:\n",
    "            print(\"Shopping list is empty.\")\n",
    "    elif choice == \"4\":\n",
    "        # Exit\n",
    "        print(\"Exiting shopping list program.\")\n",
    "        break\n",
    "    else:\n",
    "        print(\"Invalid choice. Please try again.\")"
   ]
  },
  {
   "cell_type": "code",
   "execution_count": null,
   "id": "b37140f1-48f6-43ce-bdb8-c6f494b35ee2",
   "metadata": {},
   "outputs": [],
   "source": []
  }
 ],
 "metadata": {
  "kernelspec": {
   "display_name": "Python 3 (ipykernel)",
   "language": "python",
   "name": "python3"
  },
  "language_info": {
   "codemirror_mode": {
    "name": "ipython",
    "version": 3
   },
   "file_extension": ".py",
   "mimetype": "text/x-python",
   "name": "python",
   "nbconvert_exporter": "python",
   "pygments_lexer": "ipython3",
   "version": "3.12.4"
  }
 },
 "nbformat": 4,
 "nbformat_minor": 5
}
