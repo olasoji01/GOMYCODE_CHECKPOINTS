{
 "cells": [
  {
   "cell_type": "code",
   "execution_count": 1,
   "id": "17fd6e7e-1887-4ea6-83fa-a8315fd1cfa2",
   "metadata": {},
   "outputs": [
    {
     "data": {
      "text/plain": [
       "'Create a calculator program that allows the user to perform mathematical operations on\\ntwo numbers using basic functions and a dictionary to store the operations. \\nThe program should also have the ability to continue calculations with the result of previous calculations.'"
      ]
     },
     "execution_count": 1,
     "metadata": {},
     "output_type": "execute_result"
    }
   ],
   "source": [
    "###Assessment \n",
    "\"\"\"Create a calculator program that allows the user to perform mathematical operations on\n",
    "two numbers using basic functions and a dictionary to store the operations. \n",
    "The program should also have the ability to continue calculations with the result of previous calculations.\"\"\""
   ]
  },
  {
   "cell_type": "code",
   "execution_count": null,
   "id": "a08be2e8-5441-46f3-a1fa-d2909aa97bd7",
   "metadata": {},
   "outputs": [
    {
     "name": "stdin",
     "output_type": "stream",
     "text": [
      "Enter the first number:  4\n"
     ]
    },
    {
     "name": "stdout",
     "output_type": "stream",
     "text": [
      "\n",
      "Available operations:\n",
      "+\n",
      "-\n",
      "*\n",
      "/\n"
     ]
    },
    {
     "name": "stdin",
     "output_type": "stream",
     "text": [
      "\n",
      "Enter operation symbol:  *\n",
      "Enter the second number:  40\n"
     ]
    },
    {
     "name": "stdout",
     "output_type": "stream",
     "text": [
      "\n",
      "4.0 * 40.0 = 160.0\n"
     ]
    },
    {
     "name": "stdin",
     "output_type": "stream",
     "text": [
      "\n",
      "Continue with result? (y/n):  n\n",
      "Enter the first number:  45\n"
     ]
    },
    {
     "name": "stdout",
     "output_type": "stream",
     "text": [
      "\n",
      "Available operations:\n",
      "+\n",
      "-\n",
      "*\n",
      "/\n"
     ]
    },
    {
     "name": "stdin",
     "output_type": "stream",
     "text": [
      "\n",
      "Enter operation symbol:  +\n",
      "Enter the second number:  45\n"
     ]
    },
    {
     "name": "stdout",
     "output_type": "stream",
     "text": [
      "\n",
      "45.0 + 45.0 = 90.0\n"
     ]
    }
   ],
   "source": [
    "# Define basic mathematical functions\n",
    "def add(num1, num2):\n",
    "    return num1 + num2\n",
    "\n",
    "def subtract(num1, num2):\n",
    "    return num1 - num2\n",
    "\n",
    "def multiply(num1, num2):\n",
    "    return num1 * num2\n",
    "\n",
    "def divide(num1, num2):\n",
    "    if num2 == 0:\n",
    "        raise ValueError(\"Cannot divide by zero.\")\n",
    "    return num1 / num2\n",
    "\n",
    "# Create dictionary of operations\n",
    "operations = {\n",
    "    \"+\": add,\n",
    "    \"-\": subtract,\n",
    "    \"*\": multiply,\n",
    "    \"/\": divide\n",
    "}\n",
    "\n",
    "def calculator():\n",
    "    # Prompt user for first number\n",
    "    num1 = float(input(\"Enter the first number: \"))\n",
    "\n",
    "    should_continue = True\n",
    "    while should_continue:\n",
    "        # Print available operation symbols\n",
    "        print(\"\\nAvailable operations:\")\n",
    "        for symbol in operations.keys():\n",
    "            print(symbol)\n",
    "\n",
    "# Prompt user for operation symbol\n",
    "        operation_symbol = input(\"\\nEnter operation symbol: \")\n",
    "\n",
    "        # Prompt user for second number\n",
    "        num2 = float(input(\"Enter the second number: \"))\n",
    "\n",
    "        # Retrieve calculation function from dictionary\n",
    "        calculation_function = operations.get(operation_symbol)\n",
    "\n",
    "        if calculation_function:\n",
    "            try:\n",
    "                # Perform calculation\n",
    "                answer = calculation_function(num1, num2)\n",
    "                print(f\"\\n{num1} {operation_symbol} {num2} = {answer}\")\n",
    "\n",
    "                # Ask user to continue or start new calculation\n",
    "                response = input(\"\\nContinue with result? (y/n): \")\n",
    "                if response.lower() == \"y\":\n",
    "                    num1 = answer\n",
    "                else:\n",
    "                    should_continue = False\n",
    "                    calculator()\n",
    "            except ValueError as e:\n",
    "                print(f\"\\nError: {e}\")\n",
    "    else:\n",
    "     print(\"\\nInvalid operation symbol. Please try again.\")\n",
    "\n",
    "# Start calculator program\n",
    "calculator()\n"
   ]
  },
  {
   "cell_type": "code",
   "execution_count": null,
   "id": "4104fb20-59c5-4372-9e15-a7b172092138",
   "metadata": {},
   "outputs": [],
   "source": []
  }
 ],
 "metadata": {
  "kernelspec": {
   "display_name": "Python 3 (ipykernel)",
   "language": "python",
   "name": "python3"
  },
  "language_info": {
   "codemirror_mode": {
    "name": "ipython",
    "version": 3
   },
   "file_extension": ".py",
   "mimetype": "text/x-python",
   "name": "python",
   "nbconvert_exporter": "python",
   "pygments_lexer": "ipython3",
   "version": "3.12.4"
  }
 },
 "nbformat": 4,
 "nbformat_minor": 5
}
