{
 "cells": [
  {
   "cell_type": "markdown",
   "id": "d4e33113-fbf4-4308-b8f2-a41f8ba52496",
   "metadata": {},
   "source": [
    " ### What I'm Aiming For: CREATING BANK ACCOUNT"
   ]
  },
  {
   "cell_type": "markdown",
   "id": "d90074b1-b49d-4880-9c18-34614e0bc59e",
   "metadata": {},
   "source": [
    "##### Create a class called \"Account\" that has the following attributes:\n",
    "- account_number (string)\n",
    "- account_balance (float)\n",
    "- account_holder (string)\n",
    "\n",
    "##### The class should have the following methods:\n",
    "\n",
    "- deposit(amount: float) - This method should add the amount passed as an argument to the account balance.\n",
    "- withdraw(amount: float) - This method should subtract the amount passed as an argument from the account balance, but only if the account balance is greater than the amount being withdrawn.\n",
    "- check_balance() - This method should return the current account balance.\n",
    "\n",
    "##### Instructions:\n",
    "\n",
    "- Create a new file called \"bank_account.py\"\n",
    "- Define the Account class and its attributes as specified above.\n",
    "- Define the deposit() method. It should take in one argument, the amount to be deposited, and add it to the account balance.\n",
    "- Define the withdraw() method. It should take in one argument, the amount to be withdrawn, and subtract it from the account balance. The method should only execute the withdrawal if the account balance is greater than or equal to the amount to be withdrawn.\n",
    "- Define the check_balance() method. It should return the current account balance.\n",
    "- Create an instance of the Account class, and assign it to a variable called \"my_account\".\n",
    "- Use the methods of the class to deposit and withdraw money from the account, and check the account balance.\n",
    "- Test the program by creating multiple instances of the class and performing different transactions on them"
   ]
  },
  {
   "cell_type": "code",
   "execution_count": 21,
   "id": "73f1e473-c7d4-4aea-a39c-6cf4436efbc5",
   "metadata": {},
   "outputs": [],
   "source": [
    "class Account:\n",
    "    def __init__(self, account_number: str, account_balance: float, account_holder: str):\n",
    "        self.account_number = account_number\n",
    "        self.account_balance = account_balance\n",
    "        self.account_holder = account_holder\n",
    "\n",
    "    def deposit(self, deposit_amount: float):\n",
    "        self.deposit_amount = deposit_amount\n",
    "        balance_after_deposit = self.deposit_amount + self.account_balance\n",
    "        return f'You deposited {self.deposit_amount}, your account balance is now {balance_after_deposit}' \n",
    "\n",
    "    def withdraw(self, withdrawal_amount: float):\n",
    "        self.withdrawal_amount = withdrawal_amount\n",
    "        return f' Dear {self.account_holder} you made a withdrawal of {self.withdrawal_amount}'\n",
    "\n",
    "    def checkbalance(self):\n",
    "        balance_after_withdrawal = self.account_balance - self.withdrawal_amount\n",
    "        return f'your current account balance is {balance_after_withdrawal}'"
   ]
  },
  {
   "cell_type": "code",
   "execution_count": 22,
   "id": "2b73af91-627b-4a43-b5af-590db48f3564",
   "metadata": {},
   "outputs": [],
   "source": [
    "my_account = Account(9876543210, 7000000.00, 'Olasoji Martins Olamipo')"
   ]
  },
  {
   "cell_type": "code",
   "execution_count": 23,
   "id": "de9db716-f6c2-4655-928e-900087012b43",
   "metadata": {},
   "outputs": [
    {
     "data": {
      "text/plain": [
       "9876543210"
      ]
     },
     "execution_count": 23,
     "metadata": {},
     "output_type": "execute_result"
    }
   ],
   "source": [
    "my_account.account_number"
   ]
  },
  {
   "cell_type": "code",
   "execution_count": 24,
   "id": "304fd540-6489-4eaa-8d8d-bb6ba8b5125c",
   "metadata": {},
   "outputs": [
    {
     "data": {
      "text/plain": [
       "7000000.0"
      ]
     },
     "execution_count": 24,
     "metadata": {},
     "output_type": "execute_result"
    }
   ],
   "source": [
    "my_account.account_balance"
   ]
  },
  {
   "cell_type": "code",
   "execution_count": 25,
   "id": "e115db4b-126f-4add-89a3-c8d633dffc8d",
   "metadata": {},
   "outputs": [
    {
     "data": {
      "text/plain": [
       "'Olasoji Martins Olamipo'"
      ]
     },
     "execution_count": 25,
     "metadata": {},
     "output_type": "execute_result"
    }
   ],
   "source": [
    "my_account.account_holder"
   ]
  },
  {
   "cell_type": "code",
   "execution_count": 26,
   "id": "d40e8159-1546-4351-b4a1-30e5874a587a",
   "metadata": {},
   "outputs": [
    {
     "data": {
      "text/plain": [
       "'You deposited 300000.0, your account balance is now 7300000.0'"
      ]
     },
     "execution_count": 26,
     "metadata": {},
     "output_type": "execute_result"
    }
   ],
   "source": [
    "my_account.deposit(300000.00)"
   ]
  },
  {
   "cell_type": "code",
   "execution_count": 27,
   "id": "44a997df-b87f-4c61-afb9-04d8fc720cb0",
   "metadata": {},
   "outputs": [
    {
     "data": {
      "text/plain": [
       "' Dear Olasoji Martins Olamipo you made a withdrawal of 500000.0'"
      ]
     },
     "execution_count": 27,
     "metadata": {},
     "output_type": "execute_result"
    }
   ],
   "source": [
    "my_account.withdraw(500000.00)"
   ]
  },
  {
   "cell_type": "code",
   "execution_count": 29,
   "id": "b7e41188-e0e5-4bbd-a911-59d111feda6e",
   "metadata": {},
   "outputs": [
    {
     "data": {
      "text/plain": [
       "'your current account balance is 6500000.0'"
      ]
     },
     "execution_count": 29,
     "metadata": {},
     "output_type": "execute_result"
    }
   ],
   "source": [
    "my_account.checkbalance()"
   ]
  }
 ],
 "metadata": {
  "kernelspec": {
   "display_name": "Python 3 (ipykernel)",
   "language": "python",
   "name": "python3"
  },
  "language_info": {
   "codemirror_mode": {
    "name": "ipython",
    "version": 3
   },
   "file_extension": ".py",
   "mimetype": "text/x-python",
   "name": "python",
   "nbconvert_exporter": "python",
   "pygments_lexer": "ipython3",
   "version": "3.12.4"
  }
 },
 "nbformat": 4,
 "nbformat_minor": 5
}
